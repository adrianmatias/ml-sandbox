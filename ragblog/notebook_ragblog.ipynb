{
  "cells": [
    {
      "cell_type": "markdown",
      "source": [
        "# notebook_ragblog\n",
        "\n",
        "This notebook allows to run ragblog/run.py from google colab. The objective is to access GPU backend for the llm workload.\n",
        "\n"
      ],
      "metadata": {
        "id": "phI5kz36gL2I"
      }
    },
    {
      "cell_type": "code",
      "execution_count": 1,
      "metadata": {
        "id": "mfngTqHzyGdI"
      },
      "outputs": [],
      "source": [
        "%load_ext autoreload\n",
        "%autoreload 2"
      ]
    },
    {
      "cell_type": "code",
      "execution_count": 2,
      "metadata": {
        "colab": {
          "base_uri": "https://localhost:8080/"
        },
        "id": "ZekwK5pkHPzc",
        "outputId": "7eb8cac5-22ae-4e82-d310-ad173d64d59b"
      },
      "outputs": [
        {
          "output_type": "stream",
          "name": "stdout",
          "text": [
            "\u001b[36mRetrieving Poetry metadata\u001b[0m\n",
            "\n",
            "The latest version (\u001b[1m1.8.3\u001b[0m) is already installed.\n"
          ]
        }
      ],
      "source": [
        "!curl -sSL https://install.python-poetry.org | python3 -\n"
      ]
    },
    {
      "cell_type": "code",
      "execution_count": 3,
      "metadata": {
        "id": "Dk1mU_iLN7Xs"
      },
      "outputs": [],
      "source": [
        "# !export PATH=\"/root/.local/bin:$PATH\""
      ]
    },
    {
      "cell_type": "code",
      "execution_count": 4,
      "metadata": {
        "id": "rbYi0z4sHWeD"
      },
      "outputs": [],
      "source": [
        "import os\n",
        "os.environ[\"PATH\"] += os.pathsep + os.path.expanduser(\"~/.local/bin\")\n"
      ]
    },
    {
      "cell_type": "code",
      "execution_count": 5,
      "metadata": {
        "colab": {
          "base_uri": "https://localhost:8080/"
        },
        "id": "pzlm4l8hFPMh",
        "outputId": "86dcf356-faeb-42cb-cdcd-e5d1095cf46e"
      },
      "outputs": [
        {
          "output_type": "stream",
          "name": "stdout",
          "text": [
            "Cloning into 'ml-sandbox'...\n",
            "remote: Enumerating objects: 201, done.\u001b[K\n",
            "remote: Counting objects: 100% (201/201), done.\u001b[K\n",
            "remote: Compressing objects: 100% (153/153), done.\u001b[K\n",
            "remote: Total 201 (delta 68), reused 165 (delta 40), pack-reused 0\u001b[K\n",
            "Receiving objects: 100% (201/201), 3.20 MiB | 5.43 MiB/s, done.\n",
            "Resolving deltas: 100% (68/68), done.\n"
          ]
        }
      ],
      "source": [
        "! rm -r ml-sandbox\n",
        "! git clone https://github.com/adrianmatias/ml-sandbox.git"
      ]
    },
    {
      "cell_type": "code",
      "execution_count": 6,
      "metadata": {
        "id": "nBsSmPRoUytd"
      },
      "outputs": [],
      "source": [
        "os.chdir(\"ml-sandbox/ragblog\")"
      ]
    },
    {
      "cell_type": "markdown",
      "metadata": {
        "id": "2NgMHNKvUygz"
      },
      "source": []
    },
    {
      "cell_type": "code",
      "execution_count": 7,
      "metadata": {
        "colab": {
          "base_uri": "https://localhost:8080/"
        },
        "id": "TTKC0sniIk2t",
        "outputId": "70ae6815-5a02-4944-f604-92f49939f1ed"
      },
      "outputs": [
        {
          "output_type": "stream",
          "name": "stdout",
          "text": [
            "lint.sh  poetry.lock  pyproject.toml  ragblog  README.md  tests\n"
          ]
        }
      ],
      "source": [
        "!ls"
      ]
    },
    {
      "cell_type": "code",
      "execution_count": 8,
      "metadata": {
        "colab": {
          "base_uri": "https://localhost:8080/"
        },
        "collapsed": true,
        "id": "7t9ld6kqGXnQ",
        "outputId": "9dd955e1-f2ec-48be-f1d4-24bc982d193e"
      },
      "outputs": [
        {
          "output_type": "stream",
          "name": "stdout",
          "text": [
            "\u001b[34mInstalling dependencies from lock file\u001b[39m\n",
            "\n",
            "No dependencies to install or update\n",
            "\n",
            "\u001b[39;1mInstalling\u001b[39;22m the current project: \u001b[36mragblog\u001b[39m (\u001b[39;1m0.1.0\u001b[39;22m)\u001b[1G\u001b[2K\u001b[39;1mInstalling\u001b[39;22m the current project: \u001b[36mragblog\u001b[39m (\u001b[32m0.1.0\u001b[39m)\n"
          ]
        }
      ],
      "source": [
        "!poetry install"
      ]
    },
    {
      "cell_type": "code",
      "execution_count": 9,
      "metadata": {
        "id": "knhzNso1WoMj",
        "colab": {
          "base_uri": "https://localhost:8080/"
        },
        "outputId": "0fdc078d-43a0-4425-dc84-07069785b4b5"
      },
      "outputs": [
        {
          "output_type": "stream",
          "name": "stdout",
          "text": [
            "\u001b[36mbeautifulsoup4\u001b[39m \u001b[39;1m4.12.3\u001b[39;22m Screen-scraping library\n",
            "└── \u001b[33msoupsieve\u001b[39m >1.2\n",
            "\u001b[36mblack\u001b[39m \u001b[39;1m24.4.2\u001b[39;22m The uncompromising code formatter.\n",
            "├── \u001b[33mclick\u001b[39m >=8.0.0\n",
            "│   └── \u001b[32mcolorama\u001b[39m * \n",
            "├── \u001b[33mmypy-extensions\u001b[39m >=0.4.3\n",
            "├── \u001b[33mpackaging\u001b[39m >=22.0\n",
            "├── \u001b[33mpathspec\u001b[39m >=0.9.0\n",
            "├── \u001b[33mplatformdirs\u001b[39m >=2\n",
            "├── \u001b[33mtomli\u001b[39m >=1.1.0\n",
            "└── \u001b[33mtyping-extensions\u001b[39m >=4.0.1\n",
            "\u001b[36misort\u001b[39m \u001b[39;1m5.13.2\u001b[39;22m A Python utility / library to sort Python imports.\n",
            "\u001b[36mjq\u001b[39m \u001b[39;1m1.7.0\u001b[39;22m jq is a lightweight and flexible JSON processor.\n",
            "\u001b[36mlangchain\u001b[39m \u001b[39;1m0.2.11\u001b[39;22m Building applications with LLMs through composability\n",
            "├── \u001b[33maiohttp\u001b[39m >=3.8.3,<4.0.0\n",
            "│   ├── \u001b[32maiosignal\u001b[39m >=1.1.2 \n",
            "│   │   └── \u001b[35mfrozenlist\u001b[39m >=1.1.0 \n",
            "│   ├── \u001b[32masync-timeout\u001b[39m >=4.0,<5.0 \n",
            "│   ├── \u001b[32mattrs\u001b[39m >=17.3.0 \n",
            "│   ├── \u001b[32mfrozenlist\u001b[39m >=1.1.1 (circular dependency aborted here)\n",
            "│   ├── \u001b[32mmultidict\u001b[39m >=4.5,<7.0 \n",
            "│   └── \u001b[32myarl\u001b[39m >=1.0,<2.0 \n",
            "│       ├── \u001b[35midna\u001b[39m >=2.0 \n",
            "│       └── \u001b[35mmultidict\u001b[39m >=4.0 (circular dependency aborted here)\n",
            "├── \u001b[33masync-timeout\u001b[39m >=4.0.0,<5.0.0\n",
            "├── \u001b[33mlangchain-core\u001b[39m >=0.2.23,<0.3.0\n",
            "│   ├── \u001b[32mjsonpatch\u001b[39m >=1.33,<2.0 \n",
            "│   │   └── \u001b[35mjsonpointer\u001b[39m >=1.9 \n",
            "│   ├── \u001b[32mlangsmith\u001b[39m >=0.1.75,<0.2.0 \n",
            "│   │   ├── \u001b[35morjson\u001b[39m >=3.9.14,<4.0.0 \n",
            "│   │   ├── \u001b[35mpydantic\u001b[39m >=1,<3 \n",
            "│   │   │   ├── \u001b[34mannotated-types\u001b[39m >=0.4.0 \n",
            "│   │   │   ├── \u001b[34mpydantic-core\u001b[39m 2.20.1 \n",
            "│   │   │   │   └── \u001b[36mtyping-extensions\u001b[39m >=4.6.0,<4.7.0 || >4.7.0 \n",
            "│   │   │   ├── \u001b[34mtyping-extensions\u001b[39m >=4.6.1 (circular dependency aborted here)\n",
            "│   │   │   └── \u001b[34mtyping-extensions\u001b[39m >=4.12.2 (circular dependency aborted here)\n",
            "│   │   ├── \u001b[35mpydantic\u001b[39m >=2.7.4,<3.0.0 (circular dependency aborted here)\n",
            "│   │   └── \u001b[35mrequests\u001b[39m >=2,<3 \n",
            "│   │       ├── \u001b[34mcertifi\u001b[39m >=2017.4.17 \n",
            "│   │       ├── \u001b[34mcharset-normalizer\u001b[39m >=2,<4 \n",
            "│   │       ├── \u001b[34midna\u001b[39m >=2.5,<4 \n",
            "│   │       └── \u001b[34murllib3\u001b[39m >=1.21.1,<3 \n",
            "│   ├── \u001b[32mpackaging\u001b[39m >=23.2,<25 \n",
            "│   ├── \u001b[32mpydantic\u001b[39m >=1,<3 (circular dependency aborted here)\n",
            "│   ├── \u001b[32mpydantic\u001b[39m >=2.7.4,<3.0.0 (circular dependency aborted here)\n",
            "│   ├── \u001b[32mpyyaml\u001b[39m >=5.3 \n",
            "│   └── \u001b[32mtenacity\u001b[39m >=8.1.0,<8.4.0 || >8.4.0,<9.0.0 \n",
            "├── \u001b[33mlangchain-text-splitters\u001b[39m >=0.2.0,<0.3.0\n",
            "│   └── \u001b[32mlangchain-core\u001b[39m >=0.2.10,<0.3.0 \n",
            "│       ├── \u001b[35mjsonpatch\u001b[39m >=1.33,<2.0 \n",
            "│       │   └── \u001b[34mjsonpointer\u001b[39m >=1.9 \n",
            "│       ├── \u001b[35mlangsmith\u001b[39m >=0.1.75,<0.2.0 \n",
            "│       │   ├── \u001b[34morjson\u001b[39m >=3.9.14,<4.0.0 \n",
            "│       │   ├── \u001b[34mpydantic\u001b[39m >=1,<3 \n",
            "│       │   │   ├── \u001b[36mannotated-types\u001b[39m >=0.4.0 \n",
            "│       │   │   ├── \u001b[36mpydantic-core\u001b[39m 2.20.1 \n",
            "│       │   │   │   └── \u001b[33mtyping-extensions\u001b[39m >=4.6.0,<4.7.0 || >4.7.0 \n",
            "│       │   │   ├── \u001b[36mtyping-extensions\u001b[39m >=4.6.1 (circular dependency aborted here)\n",
            "│       │   │   └── \u001b[36mtyping-extensions\u001b[39m >=4.12.2 (circular dependency aborted here)\n",
            "│       │   ├── \u001b[34mpydantic\u001b[39m >=2.7.4,<3.0.0 (circular dependency aborted here)\n",
            "│       │   └── \u001b[34mrequests\u001b[39m >=2,<3 \n",
            "│       │       ├── \u001b[36mcertifi\u001b[39m >=2017.4.17 \n",
            "│       │       ├── \u001b[36mcharset-normalizer\u001b[39m >=2,<4 \n",
            "│       │       ├── \u001b[36midna\u001b[39m >=2.5,<4 \n",
            "│       │       └── \u001b[36murllib3\u001b[39m >=1.21.1,<3 \n",
            "│       ├── \u001b[35mpackaging\u001b[39m >=23.2,<25 \n",
            "│       ├── \u001b[35mpydantic\u001b[39m >=1,<3 (circular dependency aborted here)\n",
            "│       ├── \u001b[35mpydantic\u001b[39m >=2.7.4,<3.0.0 (circular dependency aborted here)\n",
            "│       ├── \u001b[35mpyyaml\u001b[39m >=5.3 \n",
            "│       └── \u001b[35mtenacity\u001b[39m >=8.1.0,<8.4.0 || >8.4.0,<9.0.0 \n",
            "├── \u001b[33mlangsmith\u001b[39m >=0.1.17,<0.2.0\n",
            "│   ├── \u001b[32morjson\u001b[39m >=3.9.14,<4.0.0 \n",
            "│   ├── \u001b[32mpydantic\u001b[39m >=1,<3 \n",
            "│   │   ├── \u001b[35mannotated-types\u001b[39m >=0.4.0 \n",
            "│   │   ├── \u001b[35mpydantic-core\u001b[39m 2.20.1 \n",
            "│   │   │   └── \u001b[34mtyping-extensions\u001b[39m >=4.6.0,<4.7.0 || >4.7.0 \n",
            "│   │   ├── \u001b[35mtyping-extensions\u001b[39m >=4.6.1 (circular dependency aborted here)\n",
            "│   │   └── \u001b[35mtyping-extensions\u001b[39m >=4.12.2 (circular dependency aborted here)\n",
            "│   ├── \u001b[32mpydantic\u001b[39m >=2.7.4,<3.0.0 (circular dependency aborted here)\n",
            "│   └── \u001b[32mrequests\u001b[39m >=2,<3 \n",
            "│       ├── \u001b[35mcertifi\u001b[39m >=2017.4.17 \n",
            "│       ├── \u001b[35mcharset-normalizer\u001b[39m >=2,<4 \n",
            "│       ├── \u001b[35midna\u001b[39m >=2.5,<4 \n",
            "│       └── \u001b[35murllib3\u001b[39m >=1.21.1,<3 \n",
            "├── \u001b[33mnumpy\u001b[39m >=1,<2\n",
            "├── \u001b[33mnumpy\u001b[39m >=1.26.0,<2.0.0\n",
            "├── \u001b[33mpydantic\u001b[39m >=1,<3\n",
            "│   ├── \u001b[32mannotated-types\u001b[39m >=0.4.0 \n",
            "│   ├── \u001b[32mpydantic-core\u001b[39m 2.20.1 \n",
            "│   │   └── \u001b[35mtyping-extensions\u001b[39m >=4.6.0,<4.7.0 || >4.7.0 \n",
            "│   ├── \u001b[32mtyping-extensions\u001b[39m >=4.6.1 (circular dependency aborted here)\n",
            "│   └── \u001b[32mtyping-extensions\u001b[39m >=4.12.2 (circular dependency aborted here)\n",
            "├── \u001b[33mpyyaml\u001b[39m >=5.3\n",
            "├── \u001b[33mrequests\u001b[39m >=2,<3\n",
            "│   ├── \u001b[32mcertifi\u001b[39m >=2017.4.17 \n",
            "│   ├── \u001b[32mcharset-normalizer\u001b[39m >=2,<4 \n",
            "│   ├── \u001b[32midna\u001b[39m >=2.5,<4 \n",
            "│   └── \u001b[32murllib3\u001b[39m >=1.21.1,<3 \n",
            "├── \u001b[33msqlalchemy\u001b[39m >=1.4,<3\n",
            "│   ├── \u001b[32mgreenlet\u001b[39m !=0.4.17 \n",
            "│   └── \u001b[32mtyping-extensions\u001b[39m >=4.6.0 \n",
            "└── \u001b[33mtenacity\u001b[39m >=8.1.0,<8.4.0 || >8.4.0,<9.0.0\n",
            "\u001b[36mlangchain-chroma\u001b[39m \u001b[39;1m0.1.2\u001b[39;22m An integration package connecting Chroma and LangChain\n",
            "├── \u001b[33mchromadb\u001b[39m >=0.4.0,<0.6.0\n",
            "│   ├── \u001b[32mbcrypt\u001b[39m >=4.0.1 \n",
            "│   ├── \u001b[32mbuild\u001b[39m >=1.0.3 \n",
            "│   │   ├── \u001b[35mcolorama\u001b[39m * \n",
            "│   │   ├── \u001b[35mimportlib-metadata\u001b[39m >=4.6 \n",
            "│   │   │   └── \u001b[34mzipp\u001b[39m >=0.5 \n",
            "│   │   ├── \u001b[35mpackaging\u001b[39m >=19.1 \n",
            "│   │   ├── \u001b[35mpyproject-hooks\u001b[39m * \n",
            "│   │   └── \u001b[35mtomli\u001b[39m >=1.1.0 \n",
            "│   ├── \u001b[32mchroma-hnswlib\u001b[39m 0.7.6 \n",
            "│   │   └── \u001b[35mnumpy\u001b[39m * \n",
            "│   ├── \u001b[32mfastapi\u001b[39m >=0.95.2 \n",
            "│   │   ├── \u001b[35memail-validator\u001b[39m >=2.0.0 \n",
            "│   │   │   ├── \u001b[34mdnspython\u001b[39m >=2.0.0 \n",
            "│   │   │   └── \u001b[34midna\u001b[39m >=2.0.0 \n",
            "│   │   ├── \u001b[35mfastapi-cli\u001b[39m >=0.0.2 \n",
            "│   │   │   └── \u001b[34mtyper\u001b[39m >=0.12.3 \n",
            "│   │   │       ├── \u001b[36mclick\u001b[39m >=8.0.0 \n",
            "│   │   │       │   └── \u001b[33mcolorama\u001b[39m * (circular dependency aborted here)\n",
            "│   │   │       ├── \u001b[36mrich\u001b[39m >=10.11.0 \n",
            "│   │   │       │   ├── \u001b[33mmarkdown-it-py\u001b[39m >=2.2.0 \n",
            "│   │   │       │   │   └── \u001b[32mmdurl\u001b[39m >=0.1,<1.0 \n",
            "│   │   │       │   └── \u001b[33mpygments\u001b[39m >=2.13.0,<3.0.0 \n",
            "│   │   │       ├── \u001b[36mshellingham\u001b[39m >=1.3.0 \n",
            "│   │   │       └── \u001b[36mtyping-extensions\u001b[39m >=3.7.4.3 \n",
            "│   │   ├── \u001b[35mhttpx\u001b[39m >=0.23.0 \n",
            "│   │   │   ├── \u001b[34manyio\u001b[39m * \n",
            "│   │   │   │   ├── \u001b[36mexceptiongroup\u001b[39m >=1.0.2 \n",
            "│   │   │   │   ├── \u001b[36midna\u001b[39m >=2.8 (circular dependency aborted here)\n",
            "│   │   │   │   ├── \u001b[36msniffio\u001b[39m >=1.1 \n",
            "│   │   │   │   └── \u001b[36mtyping-extensions\u001b[39m >=4.1 (circular dependency aborted here)\n",
            "│   │   │   ├── \u001b[34mcertifi\u001b[39m * \n",
            "│   │   │   ├── \u001b[34mhttpcore\u001b[39m ==1.* \n",
            "│   │   │   │   ├── \u001b[36mcertifi\u001b[39m * (circular dependency aborted here)\n",
            "│   │   │   │   └── \u001b[36mh11\u001b[39m >=0.13,<0.15 \n",
            "│   │   │   ├── \u001b[34midna\u001b[39m * (circular dependency aborted here)\n",
            "│   │   │   └── \u001b[34msniffio\u001b[39m * (circular dependency aborted here)\n",
            "│   │   ├── \u001b[35mjinja2\u001b[39m >=2.11.2 \n",
            "│   │   │   └── \u001b[34mmarkupsafe\u001b[39m >=2.0 \n",
            "│   │   ├── \u001b[35mpydantic\u001b[39m >=1.7.4,<1.8 || >1.8,<1.8.1 || >1.8.1,<2.0.0 || >2.0.0,<2.0.1 || >2.0.1,<2.1.0 || >2.1.0,<3.0.0 \n",
            "│   │   │   ├── \u001b[34mannotated-types\u001b[39m >=0.4.0 \n",
            "│   │   │   ├── \u001b[34mpydantic-core\u001b[39m 2.20.1 \n",
            "│   │   │   │   └── \u001b[36mtyping-extensions\u001b[39m >=4.6.0,<4.7.0 || >4.7.0 (circular dependency aborted here)\n",
            "│   │   │   ├── \u001b[34mtyping-extensions\u001b[39m >=4.6.1 (circular dependency aborted here)\n",
            "│   │   │   └── \u001b[34mtyping-extensions\u001b[39m >=4.12.2 (circular dependency aborted here)\n",
            "│   │   ├── \u001b[35mpython-multipart\u001b[39m >=0.0.7 \n",
            "│   │   ├── \u001b[35mstarlette\u001b[39m >=0.37.2,<0.38.0 \n",
            "│   │   │   └── \u001b[34manyio\u001b[39m >=3.4.0,<5 (circular dependency aborted here)\n",
            "│   │   ├── \u001b[35mtyping-extensions\u001b[39m >=4.8.0 (circular dependency aborted here)\n",
            "│   │   └── \u001b[35muvicorn\u001b[39m >=0.12.0 \n",
            "│   │       ├── \u001b[34mclick\u001b[39m >=7.0 (circular dependency aborted here)\n",
            "│   │       ├── \u001b[34mcolorama\u001b[39m >=0.4 (circular dependency aborted here)\n",
            "│   │       ├── \u001b[34mh11\u001b[39m >=0.8 (circular dependency aborted here)\n",
            "│   │       ├── \u001b[34mhttptools\u001b[39m >=0.5.0 \n",
            "│   │       ├── \u001b[34mpython-dotenv\u001b[39m >=0.13 \n",
            "│   │       ├── \u001b[34mpyyaml\u001b[39m >=5.1 \n",
            "│   │       ├── \u001b[34mtyping-extensions\u001b[39m >=4.0 (circular dependency aborted here)\n",
            "│   │       ├── \u001b[34muvloop\u001b[39m >=0.14.0,<0.15.0 || >0.15.0,<0.15.1 || >0.15.1 \n",
            "│   │       ├── \u001b[34mwatchfiles\u001b[39m >=0.13 \n",
            "│   │       │   └── \u001b[36manyio\u001b[39m >=3.0.0 (circular dependency aborted here)\n",
            "│   │       └── \u001b[34mwebsockets\u001b[39m >=10.4 \n",
            "│   ├── \u001b[32mgrpcio\u001b[39m >=1.58.0 \n",
            "│   ├── \u001b[32mhttpx\u001b[39m >=0.27.0 (circular dependency aborted here)\n",
            "│   ├── \u001b[32mimportlib-resources\u001b[39m * \n",
            "│   ├── \u001b[32mkubernetes\u001b[39m >=28.1.0 \n",
            "│   │   ├── \u001b[35mcertifi\u001b[39m >=14.05.14 (circular dependency aborted here)\n",
            "│   │   ├── \u001b[35mgoogle-auth\u001b[39m >=1.0.1 \n",
            "│   │   │   ├── \u001b[34mcachetools\u001b[39m >=2.0.0,<6.0 \n",
            "│   │   │   ├── \u001b[34mpyasn1-modules\u001b[39m >=0.2.1 \n",
            "│   │   │   │   └── \u001b[36mpyasn1\u001b[39m >=0.4.6,<0.7.0 \n",
            "│   │   │   └── \u001b[34mrsa\u001b[39m >=3.1.4,<5 \n",
            "│   │   │       └── \u001b[36mpyasn1\u001b[39m >=0.1.3 (circular dependency aborted here)\n",
            "│   │   ├── \u001b[35moauthlib\u001b[39m >=3.2.2 \n",
            "│   │   ├── \u001b[35mpython-dateutil\u001b[39m >=2.5.3 \n",
            "│   │   │   └── \u001b[34msix\u001b[39m >=1.5 \n",
            "│   │   ├── \u001b[35mpyyaml\u001b[39m >=5.4.1 (circular dependency aborted here)\n",
            "│   │   ├── \u001b[35mrequests\u001b[39m * \n",
            "│   │   │   ├── \u001b[34mcertifi\u001b[39m >=2017.4.17 (circular dependency aborted here)\n",
            "│   │   │   ├── \u001b[34mcharset-normalizer\u001b[39m >=2,<4 \n",
            "│   │   │   ├── \u001b[34midna\u001b[39m >=2.5,<4 (circular dependency aborted here)\n",
            "│   │   │   └── \u001b[34murllib3\u001b[39m >=1.21.1,<3 \n",
            "│   │   ├── \u001b[35mrequests-oauthlib\u001b[39m * \n",
            "│   │   │   ├── \u001b[34moauthlib\u001b[39m >=3.0.0 (circular dependency aborted here)\n",
            "│   │   │   └── \u001b[34mrequests\u001b[39m >=2.0.0 (circular dependency aborted here)\n",
            "│   │   ├── \u001b[35msix\u001b[39m >=1.9.0 (circular dependency aborted here)\n",
            "│   │   ├── \u001b[35murllib3\u001b[39m >=1.24.2 (circular dependency aborted here)\n",
            "│   │   └── \u001b[35mwebsocket-client\u001b[39m >=0.32.0,<0.40.0 || >0.40.0,<0.41.dev0 || >=0.43.dev0 \n",
            "│   ├── \u001b[32mmmh3\u001b[39m >=4.0.1 \n",
            "│   ├── \u001b[32mnumpy\u001b[39m >=1.22.5,<2.0.0 (circular dependency aborted here)\n",
            "│   ├── \u001b[32monnxruntime\u001b[39m >=1.14.1 \n",
            "│   │   ├── \u001b[35mcoloredlogs\u001b[39m * \n",
            "│   │   │   └── \u001b[34mhumanfriendly\u001b[39m >=9.1 \n",
            "│   │   │       └── \u001b[36mpyreadline3\u001b[39m * \n",
            "│   │   ├── \u001b[35mflatbuffers\u001b[39m * \n",
            "│   │   ├── \u001b[35mnumpy\u001b[39m >=1.21.6,<2.0 (circular dependency aborted here)\n",
            "│   │   ├── \u001b[35mpackaging\u001b[39m * (circular dependency aborted here)\n",
            "│   │   ├── \u001b[35mprotobuf\u001b[39m * \n",
            "│   │   └── \u001b[35msympy\u001b[39m * \n",
            "│   │       └── \u001b[34mmpmath\u001b[39m >=1.1.0,<1.4 \n",
            "│   ├── \u001b[32mopentelemetry-api\u001b[39m >=1.2.0 \n",
            "│   │   ├── \u001b[35mdeprecated\u001b[39m >=1.2.6 \n",
            "│   │   │   └── \u001b[34mwrapt\u001b[39m >=1.10,<2 \n",
            "│   │   └── \u001b[35mimportlib-metadata\u001b[39m >=6.0,<=8.0.0 (circular dependency aborted here)\n",
            "│   ├── \u001b[32mopentelemetry-exporter-otlp-proto-grpc\u001b[39m >=1.2.0 \n",
            "│   │   ├── \u001b[35mdeprecated\u001b[39m >=1.2.6 (circular dependency aborted here)\n",
            "│   │   ├── \u001b[35mgoogleapis-common-protos\u001b[39m >=1.52,<2.0 \n",
            "│   │   │   └── \u001b[34mprotobuf\u001b[39m >=3.20.2,<4.21.1 || >4.21.1,<4.21.2 || >4.21.2,<4.21.3 || >4.21.3,<4.21.4 || >4.21.4,<4.21.5 || >4.21.5,<6.0.0.dev0 (circular dependency aborted here)\n",
            "│   │   ├── \u001b[35mgrpcio\u001b[39m >=1.0.0,<2.0.0 (circular dependency aborted here)\n",
            "│   │   ├── \u001b[35mopentelemetry-api\u001b[39m >=1.15,<2.0 (circular dependency aborted here)\n",
            "│   │   ├── \u001b[35mopentelemetry-exporter-otlp-proto-common\u001b[39m 1.26.0 \n",
            "│   │   │   └── \u001b[34mopentelemetry-proto\u001b[39m 1.26.0 \n",
            "│   │   │       └── \u001b[36mprotobuf\u001b[39m >=3.19,<5.0 (circular dependency aborted here)\n",
            "│   │   ├── \u001b[35mopentelemetry-proto\u001b[39m 1.26.0 (circular dependency aborted here)\n",
            "│   │   └── \u001b[35mopentelemetry-sdk\u001b[39m >=1.26.0,<1.27.0 \n",
            "│   │       ├── \u001b[34mopentelemetry-api\u001b[39m 1.26.0 (circular dependency aborted here)\n",
            "│   │       ├── \u001b[34mopentelemetry-semantic-conventions\u001b[39m 0.47b0 \n",
            "│   │       │   ├── \u001b[36mdeprecated\u001b[39m >=1.2.6 (circular dependency aborted here)\n",
            "│   │       │   └── \u001b[36mopentelemetry-api\u001b[39m 1.26.0 (circular dependency aborted here)\n",
            "│   │       └── \u001b[34mtyping-extensions\u001b[39m >=3.7.4 (circular dependency aborted here)\n",
            "│   ├── \u001b[32mopentelemetry-instrumentation-fastapi\u001b[39m >=0.41b0 \n",
            "│   │   ├── \u001b[35mopentelemetry-api\u001b[39m >=1.12,<2.0 (circular dependency aborted here)\n",
            "│   │   ├── \u001b[35mopentelemetry-instrumentation\u001b[39m 0.47b0 \n",
            "│   │   │   ├── \u001b[34mopentelemetry-api\u001b[39m >=1.4,<2.0 (circular dependency aborted here)\n",
            "│   │   │   ├── \u001b[34msetuptools\u001b[39m >=16.0 \n",
            "│   │   │   └── \u001b[34mwrapt\u001b[39m >=1.0.0,<2.0.0 (circular dependency aborted here)\n",
            "│   │   ├── \u001b[35mopentelemetry-instrumentation-asgi\u001b[39m 0.47b0 \n",
            "│   │   │   ├── \u001b[34masgiref\u001b[39m >=3.0,<4.0 \n",
            "│   │   │   │   └── \u001b[36mtyping-extensions\u001b[39m >=4 (circular dependency aborted here)\n",
            "│   │   │   ├── \u001b[34mopentelemetry-api\u001b[39m >=1.12,<2.0 (circular dependency aborted here)\n",
            "│   │   │   ├── \u001b[34mopentelemetry-instrumentation\u001b[39m 0.47b0 (circular dependency aborted here)\n",
            "│   │   │   ├── \u001b[34mopentelemetry-semantic-conventions\u001b[39m 0.47b0 (circular dependency aborted here)\n",
            "│   │   │   └── \u001b[34mopentelemetry-util-http\u001b[39m 0.47b0 \n",
            "│   │   ├── \u001b[35mopentelemetry-semantic-conventions\u001b[39m 0.47b0 (circular dependency aborted here)\n",
            "│   │   └── \u001b[35mopentelemetry-util-http\u001b[39m 0.47b0 (circular dependency aborted here)\n",
            "│   ├── \u001b[32mopentelemetry-sdk\u001b[39m >=1.2.0 (circular dependency aborted here)\n",
            "│   ├── \u001b[32morjson\u001b[39m >=3.9.12 \n",
            "│   ├── \u001b[32moverrides\u001b[39m >=7.3.1 \n",
            "│   ├── \u001b[32mposthog\u001b[39m >=2.4.0 \n",
            "│   │   ├── \u001b[35mbackoff\u001b[39m >=1.10.0 \n",
            "│   │   ├── \u001b[35mmonotonic\u001b[39m >=1.5 \n",
            "│   │   ├── \u001b[35mpython-dateutil\u001b[39m >2.1 (circular dependency aborted here)\n",
            "│   │   ├── \u001b[35mrequests\u001b[39m >=2.7,<3.0 (circular dependency aborted here)\n",
            "│   │   └── \u001b[35msix\u001b[39m >=1.5 (circular dependency aborted here)\n",
            "│   ├── \u001b[32mpydantic\u001b[39m >=1.9 (circular dependency aborted here)\n",
            "│   ├── \u001b[32mpypika\u001b[39m >=0.48.9 \n",
            "│   ├── \u001b[32mpyyaml\u001b[39m >=6.0.0 (circular dependency aborted here)\n",
            "│   ├── \u001b[32mtenacity\u001b[39m >=8.2.3 \n",
            "│   ├── \u001b[32mtokenizers\u001b[39m >=0.13.2 \n",
            "│   │   └── \u001b[35mhuggingface-hub\u001b[39m >=0.16.4,<1.0 \n",
            "│   │       ├── \u001b[34mfilelock\u001b[39m * \n",
            "│   │       ├── \u001b[34mfsspec\u001b[39m >=2023.5.0 \n",
            "│   │       ├── \u001b[34mpackaging\u001b[39m >=20.9 (circular dependency aborted here)\n",
            "│   │       ├── \u001b[34mpyyaml\u001b[39m >=5.1 (circular dependency aborted here)\n",
            "│   │       ├── \u001b[34mrequests\u001b[39m * (circular dependency aborted here)\n",
            "│   │       ├── \u001b[34mtqdm\u001b[39m >=4.42.1 \n",
            "│   │       │   └── \u001b[36mcolorama\u001b[39m * (circular dependency aborted here)\n",
            "│   │       └── \u001b[34mtyping-extensions\u001b[39m >=3.7.4.3 (circular dependency aborted here)\n",
            "│   ├── \u001b[32mtqdm\u001b[39m >=4.65.0 (circular dependency aborted here)\n",
            "│   ├── \u001b[32mtyper\u001b[39m >=0.9.0 (circular dependency aborted here)\n",
            "│   ├── \u001b[32mtyping-extensions\u001b[39m >=4.5.0 (circular dependency aborted here)\n",
            "│   └── \u001b[32muvicorn\u001b[39m >=0.18.3 (circular dependency aborted here)\n",
            "├── \u001b[33mfastapi\u001b[39m >=0.95.2,<1\n",
            "│   ├── \u001b[32memail-validator\u001b[39m >=2.0.0 \n",
            "│   │   ├── \u001b[35mdnspython\u001b[39m >=2.0.0 \n",
            "│   │   └── \u001b[35midna\u001b[39m >=2.0.0 \n",
            "│   ├── \u001b[32mfastapi-cli\u001b[39m >=0.0.2 \n",
            "│   │   └── \u001b[35mtyper\u001b[39m >=0.12.3 \n",
            "│   │       ├── \u001b[34mclick\u001b[39m >=8.0.0 \n",
            "│   │       │   └── \u001b[36mcolorama\u001b[39m * \n",
            "│   │       ├── \u001b[34mrich\u001b[39m >=10.11.0 \n",
            "│   │       │   ├── \u001b[36mmarkdown-it-py\u001b[39m >=2.2.0 \n",
            "│   │       │   │   └── \u001b[33mmdurl\u001b[39m >=0.1,<1.0 \n",
            "│   │       │   └── \u001b[36mpygments\u001b[39m >=2.13.0,<3.0.0 \n",
            "│   │       ├── \u001b[34mshellingham\u001b[39m >=1.3.0 \n",
            "│   │       └── \u001b[34mtyping-extensions\u001b[39m >=3.7.4.3 \n",
            "│   ├── \u001b[32mhttpx\u001b[39m >=0.23.0 \n",
            "│   │   ├── \u001b[35manyio\u001b[39m * \n",
            "│   │   │   ├── \u001b[34mexceptiongroup\u001b[39m >=1.0.2 \n",
            "│   │   │   ├── \u001b[34midna\u001b[39m >=2.8 (circular dependency aborted here)\n",
            "│   │   │   ├── \u001b[34msniffio\u001b[39m >=1.1 \n",
            "│   │   │   └── \u001b[34mtyping-extensions\u001b[39m >=4.1 (circular dependency aborted here)\n",
            "│   │   ├── \u001b[35mcertifi\u001b[39m * \n",
            "│   │   ├── \u001b[35mhttpcore\u001b[39m ==1.* \n",
            "│   │   │   ├── \u001b[34mcertifi\u001b[39m * (circular dependency aborted here)\n",
            "│   │   │   └── \u001b[34mh11\u001b[39m >=0.13,<0.15 \n",
            "│   │   ├── \u001b[35midna\u001b[39m * (circular dependency aborted here)\n",
            "│   │   └── \u001b[35msniffio\u001b[39m * (circular dependency aborted here)\n",
            "│   ├── \u001b[32mjinja2\u001b[39m >=2.11.2 \n",
            "│   │   └── \u001b[35mmarkupsafe\u001b[39m >=2.0 \n",
            "│   ├── \u001b[32mpydantic\u001b[39m >=1.7.4,<1.8 || >1.8,<1.8.1 || >1.8.1,<2.0.0 || >2.0.0,<2.0.1 || >2.0.1,<2.1.0 || >2.1.0,<3.0.0 \n",
            "│   │   ├── \u001b[35mannotated-types\u001b[39m >=0.4.0 \n",
            "│   │   ├── \u001b[35mpydantic-core\u001b[39m 2.20.1 \n",
            "│   │   │   └── \u001b[34mtyping-extensions\u001b[39m >=4.6.0,<4.7.0 || >4.7.0 (circular dependency aborted here)\n",
            "│   │   ├── \u001b[35mtyping-extensions\u001b[39m >=4.6.1 (circular dependency aborted here)\n",
            "│   │   └── \u001b[35mtyping-extensions\u001b[39m >=4.12.2 (circular dependency aborted here)\n",
            "│   ├── \u001b[32mpython-multipart\u001b[39m >=0.0.7 \n",
            "│   ├── \u001b[32mstarlette\u001b[39m >=0.37.2,<0.38.0 \n",
            "│   │   └── \u001b[35manyio\u001b[39m >=3.4.0,<5 (circular dependency aborted here)\n",
            "│   ├── \u001b[32mtyping-extensions\u001b[39m >=4.8.0 (circular dependency aborted here)\n",
            "│   └── \u001b[32muvicorn\u001b[39m >=0.12.0 \n",
            "│       ├── \u001b[35mclick\u001b[39m >=7.0 (circular dependency aborted here)\n",
            "│       ├── \u001b[35mcolorama\u001b[39m >=0.4 (circular dependency aborted here)\n",
            "│       ├── \u001b[35mh11\u001b[39m >=0.8 (circular dependency aborted here)\n",
            "│       ├── \u001b[35mhttptools\u001b[39m >=0.5.0 \n",
            "│       ├── \u001b[35mpython-dotenv\u001b[39m >=0.13 \n",
            "│       ├── \u001b[35mpyyaml\u001b[39m >=5.1 \n",
            "│       ├── \u001b[35mtyping-extensions\u001b[39m >=4.0 (circular dependency aborted here)\n",
            "│       ├── \u001b[35muvloop\u001b[39m >=0.14.0,<0.15.0 || >0.15.0,<0.15.1 || >0.15.1 \n",
            "│       ├── \u001b[35mwatchfiles\u001b[39m >=0.13 \n",
            "│       │   └── \u001b[34manyio\u001b[39m >=3.0.0 (circular dependency aborted here)\n",
            "│       └── \u001b[35mwebsockets\u001b[39m >=10.4 \n",
            "├── \u001b[33mlangchain-core\u001b[39m >=0.1.40,<0.3\n",
            "│   ├── \u001b[32mjsonpatch\u001b[39m >=1.33,<2.0 \n",
            "│   │   └── \u001b[35mjsonpointer\u001b[39m >=1.9 \n",
            "│   ├── \u001b[32mlangsmith\u001b[39m >=0.1.75,<0.2.0 \n",
            "│   │   ├── \u001b[35morjson\u001b[39m >=3.9.14,<4.0.0 \n",
            "│   │   ├── \u001b[35mpydantic\u001b[39m >=1,<3 \n",
            "│   │   │   ├── \u001b[34mannotated-types\u001b[39m >=0.4.0 \n",
            "│   │   │   ├── \u001b[34mpydantic-core\u001b[39m 2.20.1 \n",
            "│   │   │   │   └── \u001b[36mtyping-extensions\u001b[39m >=4.6.0,<4.7.0 || >4.7.0 \n",
            "│   │   │   ├── \u001b[34mtyping-extensions\u001b[39m >=4.6.1 (circular dependency aborted here)\n",
            "│   │   │   └── \u001b[34mtyping-extensions\u001b[39m >=4.12.2 (circular dependency aborted here)\n",
            "│   │   ├── \u001b[35mpydantic\u001b[39m >=2.7.4,<3.0.0 (circular dependency aborted here)\n",
            "│   │   └── \u001b[35mrequests\u001b[39m >=2,<3 \n",
            "│   │       ├── \u001b[34mcertifi\u001b[39m >=2017.4.17 \n",
            "│   │       ├── \u001b[34mcharset-normalizer\u001b[39m >=2,<4 \n",
            "│   │       ├── \u001b[34midna\u001b[39m >=2.5,<4 \n",
            "│   │       └── \u001b[34murllib3\u001b[39m >=1.21.1,<3 \n",
            "│   ├── \u001b[32mpackaging\u001b[39m >=23.2,<25 \n",
            "│   ├── \u001b[32mpydantic\u001b[39m >=1,<3 (circular dependency aborted here)\n",
            "│   ├── \u001b[32mpydantic\u001b[39m >=2.7.4,<3.0.0 (circular dependency aborted here)\n",
            "│   ├── \u001b[32mpyyaml\u001b[39m >=5.3 \n",
            "│   └── \u001b[32mtenacity\u001b[39m >=8.1.0,<8.4.0 || >8.4.0,<9.0.0 \n",
            "├── \u001b[33mnumpy\u001b[39m >=1,<2\n",
            "└── \u001b[33mnumpy\u001b[39m >=1.26.0,<2.0.0\n",
            "\u001b[36mlangchain-community\u001b[39m \u001b[39;1m0.2.10\u001b[39;22m Community contributed LangChain integrations.\n",
            "├── \u001b[33maiohttp\u001b[39m >=3.8.3,<4.0.0\n",
            "│   ├── \u001b[32maiosignal\u001b[39m >=1.1.2 \n",
            "│   │   └── \u001b[35mfrozenlist\u001b[39m >=1.1.0 \n",
            "│   ├── \u001b[32masync-timeout\u001b[39m >=4.0,<5.0 \n",
            "│   ├── \u001b[32mattrs\u001b[39m >=17.3.0 \n",
            "│   ├── \u001b[32mfrozenlist\u001b[39m >=1.1.1 (circular dependency aborted here)\n",
            "│   ├── \u001b[32mmultidict\u001b[39m >=4.5,<7.0 \n",
            "│   └── \u001b[32myarl\u001b[39m >=1.0,<2.0 \n",
            "│       ├── \u001b[35midna\u001b[39m >=2.0 \n",
            "│       └── \u001b[35mmultidict\u001b[39m >=4.0 (circular dependency aborted here)\n",
            "├── \u001b[33mdataclasses-json\u001b[39m >=0.5.7,<0.7\n",
            "│   ├── \u001b[32mmarshmallow\u001b[39m >=3.18.0,<4.0.0 \n",
            "│   │   └── \u001b[35mpackaging\u001b[39m >=17.0 \n",
            "│   └── \u001b[32mtyping-inspect\u001b[39m >=0.4.0,<1 \n",
            "│       ├── \u001b[35mmypy-extensions\u001b[39m >=0.3.0 \n",
            "│       └── \u001b[35mtyping-extensions\u001b[39m >=3.7.4 \n",
            "├── \u001b[33mlangchain\u001b[39m >=0.2.9,<0.3.0\n",
            "│   ├── \u001b[32maiohttp\u001b[39m >=3.8.3,<4.0.0 \n",
            "│   │   ├── \u001b[35maiosignal\u001b[39m >=1.1.2 \n",
            "│   │   │   └── \u001b[34mfrozenlist\u001b[39m >=1.1.0 \n",
            "│   │   ├── \u001b[35masync-timeout\u001b[39m >=4.0,<5.0 \n",
            "│   │   ├── \u001b[35mattrs\u001b[39m >=17.3.0 \n",
            "│   │   ├── \u001b[35mfrozenlist\u001b[39m >=1.1.1 (circular dependency aborted here)\n",
            "│   │   ├── \u001b[35mmultidict\u001b[39m >=4.5,<7.0 \n",
            "│   │   └── \u001b[35myarl\u001b[39m >=1.0,<2.0 \n",
            "│   │       ├── \u001b[34midna\u001b[39m >=2.0 \n",
            "│   │       └── \u001b[34mmultidict\u001b[39m >=4.0 (circular dependency aborted here)\n",
            "│   ├── \u001b[32masync-timeout\u001b[39m >=4.0.0,<5.0.0 (circular dependency aborted here)\n",
            "│   ├── \u001b[32mlangchain-core\u001b[39m >=0.2.23,<0.3.0 \n",
            "│   │   ├── \u001b[35mjsonpatch\u001b[39m >=1.33,<2.0 \n",
            "│   │   │   └── \u001b[34mjsonpointer\u001b[39m >=1.9 \n",
            "│   │   ├── \u001b[35mlangsmith\u001b[39m >=0.1.75,<0.2.0 \n",
            "│   │   │   ├── \u001b[34morjson\u001b[39m >=3.9.14,<4.0.0 \n",
            "│   │   │   ├── \u001b[34mpydantic\u001b[39m >=1,<3 \n",
            "│   │   │   │   ├── \u001b[36mannotated-types\u001b[39m >=0.4.0 \n",
            "│   │   │   │   ├── \u001b[36mpydantic-core\u001b[39m 2.20.1 \n",
            "│   │   │   │   │   └── \u001b[33mtyping-extensions\u001b[39m >=4.6.0,<4.7.0 || >4.7.0 \n",
            "│   │   │   │   ├── \u001b[36mtyping-extensions\u001b[39m >=4.6.1 (circular dependency aborted here)\n",
            "│   │   │   │   └── \u001b[36mtyping-extensions\u001b[39m >=4.12.2 (circular dependency aborted here)\n",
            "│   │   │   ├── \u001b[34mpydantic\u001b[39m >=2.7.4,<3.0.0 (circular dependency aborted here)\n",
            "│   │   │   └── \u001b[34mrequests\u001b[39m >=2,<3 \n",
            "│   │   │       ├── \u001b[36mcertifi\u001b[39m >=2017.4.17 \n",
            "│   │   │       ├── \u001b[36mcharset-normalizer\u001b[39m >=2,<4 \n",
            "│   │   │       ├── \u001b[36midna\u001b[39m >=2.5,<4 (circular dependency aborted here)\n",
            "│   │   │       └── \u001b[36murllib3\u001b[39m >=1.21.1,<3 \n",
            "│   │   ├── \u001b[35mpackaging\u001b[39m >=23.2,<25 \n",
            "│   │   ├── \u001b[35mpydantic\u001b[39m >=1,<3 (circular dependency aborted here)\n",
            "│   │   ├── \u001b[35mpydantic\u001b[39m >=2.7.4,<3.0.0 (circular dependency aborted here)\n",
            "│   │   ├── \u001b[35mpyyaml\u001b[39m >=5.3 \n",
            "│   │   └── \u001b[35mtenacity\u001b[39m >=8.1.0,<8.4.0 || >8.4.0,<9.0.0 \n",
            "│   ├── \u001b[32mlangchain-text-splitters\u001b[39m >=0.2.0,<0.3.0 \n",
            "│   │   └── \u001b[35mlangchain-core\u001b[39m >=0.2.10,<0.3.0 (circular dependency aborted here)\n",
            "│   ├── \u001b[32mlangsmith\u001b[39m >=0.1.17,<0.2.0 (circular dependency aborted here)\n",
            "│   ├── \u001b[32mnumpy\u001b[39m >=1,<2 \n",
            "│   ├── \u001b[32mnumpy\u001b[39m >=1.26.0,<2.0.0 (circular dependency aborted here)\n",
            "│   ├── \u001b[32mpydantic\u001b[39m >=1,<3 (circular dependency aborted here)\n",
            "│   ├── \u001b[32mpyyaml\u001b[39m >=5.3 (circular dependency aborted here)\n",
            "│   ├── \u001b[32mrequests\u001b[39m >=2,<3 (circular dependency aborted here)\n",
            "│   ├── \u001b[32msqlalchemy\u001b[39m >=1.4,<3 \n",
            "│   │   ├── \u001b[35mgreenlet\u001b[39m !=0.4.17 \n",
            "│   │   └── \u001b[35mtyping-extensions\u001b[39m >=4.6.0 (circular dependency aborted here)\n",
            "│   └── \u001b[32mtenacity\u001b[39m >=8.1.0,<8.4.0 || >8.4.0,<9.0.0 (circular dependency aborted here)\n",
            "├── \u001b[33mlangchain-core\u001b[39m >=0.2.23,<0.3.0\n",
            "│   ├── \u001b[32mjsonpatch\u001b[39m >=1.33,<2.0 \n",
            "│   │   └── \u001b[35mjsonpointer\u001b[39m >=1.9 \n",
            "│   ├── \u001b[32mlangsmith\u001b[39m >=0.1.75,<0.2.0 \n",
            "│   │   ├── \u001b[35morjson\u001b[39m >=3.9.14,<4.0.0 \n",
            "│   │   ├── \u001b[35mpydantic\u001b[39m >=1,<3 \n",
            "│   │   │   ├── \u001b[34mannotated-types\u001b[39m >=0.4.0 \n",
            "│   │   │   ├── \u001b[34mpydantic-core\u001b[39m 2.20.1 \n",
            "│   │   │   │   └── \u001b[36mtyping-extensions\u001b[39m >=4.6.0,<4.7.0 || >4.7.0 \n",
            "│   │   │   ├── \u001b[34mtyping-extensions\u001b[39m >=4.6.1 (circular dependency aborted here)\n",
            "│   │   │   └── \u001b[34mtyping-extensions\u001b[39m >=4.12.2 (circular dependency aborted here)\n",
            "│   │   ├── \u001b[35mpydantic\u001b[39m >=2.7.4,<3.0.0 (circular dependency aborted here)\n",
            "│   │   └── \u001b[35mrequests\u001b[39m >=2,<3 \n",
            "│   │       ├── \u001b[34mcertifi\u001b[39m >=2017.4.17 \n",
            "│   │       ├── \u001b[34mcharset-normalizer\u001b[39m >=2,<4 \n",
            "│   │       ├── \u001b[34midna\u001b[39m >=2.5,<4 \n",
            "│   │       └── \u001b[34murllib3\u001b[39m >=1.21.1,<3 \n",
            "│   ├── \u001b[32mpackaging\u001b[39m >=23.2,<25 \n",
            "│   ├── \u001b[32mpydantic\u001b[39m >=1,<3 (circular dependency aborted here)\n",
            "│   ├── \u001b[32mpydantic\u001b[39m >=2.7.4,<3.0.0 (circular dependency aborted here)\n",
            "│   ├── \u001b[32mpyyaml\u001b[39m >=5.3 \n",
            "│   └── \u001b[32mtenacity\u001b[39m >=8.1.0,<8.4.0 || >8.4.0,<9.0.0 \n",
            "├── \u001b[33mlangsmith\u001b[39m >=0.1.0,<0.2.0\n",
            "│   ├── \u001b[32morjson\u001b[39m >=3.9.14,<4.0.0 \n",
            "│   ├── \u001b[32mpydantic\u001b[39m >=1,<3 \n",
            "│   │   ├── \u001b[35mannotated-types\u001b[39m >=0.4.0 \n",
            "│   │   ├── \u001b[35mpydantic-core\u001b[39m 2.20.1 \n",
            "│   │   │   └── \u001b[34mtyping-extensions\u001b[39m >=4.6.0,<4.7.0 || >4.7.0 \n",
            "│   │   ├── \u001b[35mtyping-extensions\u001b[39m >=4.6.1 (circular dependency aborted here)\n",
            "│   │   └── \u001b[35mtyping-extensions\u001b[39m >=4.12.2 (circular dependency aborted here)\n",
            "│   ├── \u001b[32mpydantic\u001b[39m >=2.7.4,<3.0.0 (circular dependency aborted here)\n",
            "│   └── \u001b[32mrequests\u001b[39m >=2,<3 \n",
            "│       ├── \u001b[35mcertifi\u001b[39m >=2017.4.17 \n",
            "│       ├── \u001b[35mcharset-normalizer\u001b[39m >=2,<4 \n",
            "│       ├── \u001b[35midna\u001b[39m >=2.5,<4 \n",
            "│       └── \u001b[35murllib3\u001b[39m >=1.21.1,<3 \n",
            "├── \u001b[33mnumpy\u001b[39m >=1,<2\n",
            "├── \u001b[33mnumpy\u001b[39m >=1.26.0,<2.0.0\n",
            "├── \u001b[33mpyyaml\u001b[39m >=5.3\n",
            "├── \u001b[33mrequests\u001b[39m >=2,<3\n",
            "│   ├── \u001b[32mcertifi\u001b[39m >=2017.4.17 \n",
            "│   ├── \u001b[32mcharset-normalizer\u001b[39m >=2,<4 \n",
            "│   ├── \u001b[32midna\u001b[39m >=2.5,<4 \n",
            "│   └── \u001b[32murllib3\u001b[39m >=1.21.1,<3 \n",
            "├── \u001b[33msqlalchemy\u001b[39m >=1.4,<3\n",
            "│   ├── \u001b[32mgreenlet\u001b[39m !=0.4.17 \n",
            "│   └── \u001b[32mtyping-extensions\u001b[39m >=4.6.0 \n",
            "└── \u001b[33mtenacity\u001b[39m >=8.1.0,<8.4.0 || >8.4.0,<9.0.0\n",
            "\u001b[36mlangchainhub\u001b[39m \u001b[39;1m0.1.20\u001b[39;22m The LangChain Hub API client\n",
            "├── \u001b[33mpackaging\u001b[39m >=23.2,<25\n",
            "├── \u001b[33mrequests\u001b[39m >=2,<3\n",
            "│   ├── \u001b[32mcertifi\u001b[39m >=2017.4.17 \n",
            "│   ├── \u001b[32mcharset-normalizer\u001b[39m >=2,<4 \n",
            "│   ├── \u001b[32midna\u001b[39m >=2.5,<4 \n",
            "│   └── \u001b[32murllib3\u001b[39m >=1.21.1,<3 \n",
            "└── \u001b[33mtypes-requests\u001b[39m >=2.31.0.2,<3.0.0.0\n",
            "    └── \u001b[32murllib3\u001b[39m >=2 \n",
            "\u001b[36mpydantic\u001b[39m \u001b[39;1m2.8.2\u001b[39;22m Data validation using Python type hints\n",
            "├── \u001b[33mannotated-types\u001b[39m >=0.4.0\n",
            "├── \u001b[33mpydantic-core\u001b[39m 2.20.1\n",
            "│   └── \u001b[32mtyping-extensions\u001b[39m >=4.6.0,<4.7.0 || >4.7.0 \n",
            "├── \u001b[33mtyping-extensions\u001b[39m >=4.6.1\n",
            "└── \u001b[33mtyping-extensions\u001b[39m >=4.12.2\n",
            "\u001b[36mpytest\u001b[39m \u001b[39;1m8.3.2\u001b[39;22m pytest: simple powerful testing with Python\n",
            "├── \u001b[33mcolorama\u001b[39m *\n",
            "├── \u001b[33mexceptiongroup\u001b[39m >=1.0.0rc8\n",
            "├── \u001b[33miniconfig\u001b[39m *\n",
            "├── \u001b[33mpackaging\u001b[39m *\n",
            "├── \u001b[33mpluggy\u001b[39m >=1.5,<2\n",
            "└── \u001b[33mtomli\u001b[39m >=1\n",
            "\u001b[36mrequests\u001b[39m \u001b[39;1m2.32.3\u001b[39;22m Python HTTP for Humans.\n",
            "├── \u001b[33mcertifi\u001b[39m >=2017.4.17\n",
            "├── \u001b[33mcharset-normalizer\u001b[39m >=2,<4\n",
            "├── \u001b[33midna\u001b[39m >=2.5,<4\n",
            "└── \u001b[33murllib3\u001b[39m >=1.21.1,<3\n"
          ]
        }
      ],
      "source": [
        "!poetry show --tree\n"
      ]
    },
    {
      "cell_type": "code",
      "execution_count": 10,
      "metadata": {
        "id": "SbezL5mNbl3N",
        "colab": {
          "base_uri": "https://localhost:8080/"
        },
        "outputId": "5ceb5ec6-eb02-47b4-b02d-589670cd85c0"
      },
      "outputs": [
        {
          "output_type": "stream",
          "name": "stdout",
          "text": [
            "Reading package lists... Done\n",
            "Building dependency tree... Done\n",
            "Reading state information... Done\n",
            "pciutils is already the newest version (1:3.7.0-6).\n",
            "0 upgraded, 0 newly installed, 0 to remove and 45 not upgraded.\n"
          ]
        }
      ],
      "source": [
        "# allow ollama to access colab bakend's GPU\n",
        "! sudo apt install pciutils"
      ]
    },
    {
      "cell_type": "code",
      "execution_count": 11,
      "metadata": {
        "id": "9pRTfT-ndGD-",
        "colab": {
          "base_uri": "https://localhost:8080/"
        },
        "outputId": "2ac4e62f-9666-46fd-95b5-ca70e18c16aa"
      },
      "outputs": [
        {
          "output_type": "stream",
          "name": "stdout",
          "text": [
            "lspci version 3.7.0\n"
          ]
        }
      ],
      "source": [
        "! lspci --version"
      ]
    },
    {
      "cell_type": "code",
      "execution_count": 12,
      "metadata": {
        "id": "ehrhqSTkblFg",
        "colab": {
          "base_uri": "https://localhost:8080/"
        },
        "outputId": "3b95ea9f-8b9e-4f1b-eb43-f4a98fb06b31"
      },
      "outputs": [
        {
          "output_type": "stream",
          "name": "stdout",
          "text": [
            ">>> Downloading ollama...\n",
            "############################################################################################# 100.0%\n",
            ">>> Installing ollama to /usr/local/bin...\n",
            ">>> Adding ollama user to video group...\n",
            ">>> Adding current user to ollama group...\n",
            ">>> Creating ollama systemd service...\n",
            ">>> NVIDIA GPU installed.\n",
            ">>> The Ollama API is now available at 127.0.0.1:11434.\n",
            ">>> Install complete. Run \"ollama\" from the command line.\n"
          ]
        }
      ],
      "source": [
        "! curl -fsSL https://ollama.com/install.sh | sh"
      ]
    },
    {
      "cell_type": "code",
      "execution_count": 13,
      "metadata": {
        "id": "-UhbWkZUcN2b",
        "colab": {
          "base_uri": "https://localhost:8080/"
        },
        "outputId": "bb1c3620-03f6-48fb-c926-170447b151e8"
      },
      "outputs": [
        {
          "output_type": "stream",
          "name": "stdout",
          "text": [
            "/bin/bash: line 1: 1: command not found\n",
            "nohup: redirecting stderr to stdout\n"
          ]
        }
      ],
      "source": [
        "! nohup ollama serve > myoutput.txt >2&1\n"
      ]
    },
    {
      "cell_type": "code",
      "execution_count": 14,
      "metadata": {
        "id": "LYmfpP_FbwoQ",
        "colab": {
          "base_uri": "https://localhost:8080/"
        },
        "outputId": "1506e5a6-6785-4500-be98-4f7ec7e8e514"
      },
      "outputs": [
        {
          "output_type": "stream",
          "name": "stdout",
          "text": [
            "\u001b[?25lpulling manifest ⠋ \u001b[?25h\u001b[?25l\u001b[2K\u001b[1Gpulling manifest ⠙ \u001b[?25h\u001b[?25l\u001b[2K\u001b[1Gpulling manifest ⠹ \u001b[?25h\u001b[?25l\u001b[2K\u001b[1Gpulling manifest ⠸ \u001b[?25h\u001b[?25l\u001b[2K\u001b[1Gpulling manifest ⠼ \u001b[?25h\u001b[?25l\u001b[2K\u001b[1Gpulling manifest ⠴ \u001b[?25h\u001b[?25l\u001b[2K\u001b[1Gpulling manifest ⠦ \u001b[?25h\u001b[?25l\u001b[2K\u001b[1Gpulling manifest ⠧ \u001b[?25h\u001b[?25l\u001b[2K\u001b[1Gpulling manifest \n",
            "pulling 970aa74c0a90... 100% ▕▏ 274 MB                         \n",
            "pulling c71d239df917... 100% ▕▏  11 KB                         \n",
            "pulling ce4a164fc046... 100% ▕▏   17 B                         \n",
            "pulling 31df23ea7daa... 100% ▕▏  420 B                         \n",
            "verifying sha256 digest \n",
            "writing manifest \n",
            "removing any unused layers \n",
            "success \u001b[?25h\n"
          ]
        }
      ],
      "source": [
        "! ollama pull nomic-embed-text"
      ]
    },
    {
      "cell_type": "code",
      "execution_count": 15,
      "metadata": {
        "collapsed": true,
        "id": "DJsPMZZJeSGg",
        "colab": {
          "base_uri": "https://localhost:8080/"
        },
        "outputId": "82034d2f-87f5-4054-bace-c792b52ee6ab"
      },
      "outputs": [
        {
          "output_type": "stream",
          "name": "stdout",
          "text": [
            "\u001b[?25lpulling manifest ⠋ \u001b[?25h\u001b[?25l\u001b[2K\u001b[1Gpulling manifest ⠙ \u001b[?25h\u001b[?25l\u001b[2K\u001b[1Gpulling manifest ⠹ \u001b[?25h\u001b[?25l\u001b[2K\u001b[1Gpulling manifest \n",
            "pulling 87048bcd5521... 100% ▕▏ 4.7 GB                         \n",
            "pulling 8cf247399e57... 100% ▕▏ 1.7 KB                         \n",
            "pulling f1cd752815fc... 100% ▕▏  12 KB                         \n",
            "pulling 56bb8bd477a5... 100% ▕▏   96 B                         \n",
            "pulling e711233e7343... 100% ▕▏  485 B                         \n",
            "verifying sha256 digest \n",
            "writing manifest \n",
            "removing any unused layers \n",
            "success \u001b[?25h\n"
          ]
        }
      ],
      "source": [
        "! ollama pull llama3.1:8b\n",
        "# ! ollama run llama3.1:70b"
      ]
    },
    {
      "cell_type": "code",
      "execution_count": 16,
      "metadata": {
        "id": "BD4kM2zVXgMn",
        "colab": {
          "base_uri": "https://localhost:8080/",
          "height": 35
        },
        "outputId": "cbab6765-f021-4307-c3b3-47f4ae843d57"
      },
      "outputs": [
        {
          "output_type": "execute_result",
          "data": {
            "text/plain": [
              "'/root/.cache/pypoetry/virtualenvs/ragblog-SSGc0OJ3-py3.10'"
            ],
            "application/vnd.google.colaboratory.intrinsic+json": {
              "type": "string"
            }
          },
          "metadata": {},
          "execution_count": 16
        }
      ],
      "source": [
        "import sys\n",
        "poetry_env_path = !poetry env info --path\n",
        "poetry_env_path = poetry_env_path[0]  # Get the first line of the output\n",
        "sys.path.append(os.path.join(poetry_env_path, 'lib/python3.10/site-packages'))\n",
        "poetry_env_path"
      ]
    },
    {
      "cell_type": "code",
      "execution_count": 17,
      "metadata": {
        "id": "eKH8CrRnvJze"
      },
      "outputs": [],
      "source": [
        "# ! rm -r data\n",
        "# ! rm -r chroma"
      ]
    },
    {
      "cell_type": "code",
      "execution_count": 18,
      "metadata": {
        "id": "OgGWVG8iRuZP"
      },
      "outputs": [],
      "source": [
        "! mkdir -p data\n",
        "! mkdir -p chroma"
      ]
    },
    {
      "cell_type": "code",
      "execution_count": 19,
      "metadata": {
        "collapsed": true,
        "id": "-5NM4H2MRhDd",
        "colab": {
          "base_uri": "https://localhost:8080/"
        },
        "outputId": "fa0cac22-b54a-4f9f-ee25-e7f7194e575c"
      },
      "outputs": [
        {
          "output_type": "stream",
          "name": "stdout",
          "text": [
            "2024-08-01 10:48:08,272,272 INFO     [crawler.py:__init__:27]. self.__dict__: {'conf': ConfCrawler(url='https://delightfulobservaciones.blogspot.com/', post_count_min=1000), 'url_list': [], 'post_list': []}\n",
            "2024-08-01 10:48:08,274,274 INFO     [crawler.py:get_url_list:37]. Fetching https://delightfulobservaciones.blogspot.com/\n",
            "2024-08-01 10:48:08,863,863 INFO     [crawler.py:get_url_list:49]. url: https://delightfulobservaciones.blogspot.com/2024/03/sol-de-mi-corazon.html\n",
            "2024-08-01 10:48:08,865,865 INFO     [crawler.py:get_url_list:49]. url: https://delightfulobservaciones.blogspot.com/2024/03/el-tao-de-ser-padre.html\n",
            "2024-08-01 10:48:08,868,868 INFO     [crawler.py:get_url_list:49]. url: https://delightfulobservaciones.blogspot.com/2023/10/poco-antes-de-alejandra.html\n",
            "2024-08-01 10:48:08,870,870 INFO     [crawler.py:get_url_list:49]. url: https://delightfulobservaciones.blogspot.com/2020/04/la-materializacion-del-riesgo.html\n",
            "2024-08-01 10:48:08,872,872 INFO     [crawler.py:get_url_list:49]. url: https://delightfulobservaciones.blogspot.com/2020/03/viajeros-del-futuro.html\n",
            "2024-08-01 10:48:08,876,876 INFO     [crawler.py:get_url_list:49]. url: https://delightfulobservaciones.blogspot.com/2019/06/poco-antes-de-helena.html\n",
            "2024-08-01 10:48:08,879,879 INFO     [crawler.py:get_url_list:57]. Next page URL: https://delightfulobservaciones.blogspot.com/search?updated-max=2019-06-19T14:23:00-07:00&max-results=7\n",
            "2024-08-01 10:48:08,880,880 INFO     [crawler.py:get_url_list:37]. Fetching https://delightfulobservaciones.blogspot.com/search?updated-max=2019-06-19T14:23:00-07:00&max-results=7\n",
            "2024-08-01 10:48:09,387,387 INFO     [crawler.py:get_url_list:49]. url: https://delightfulobservaciones.blogspot.com/2017/11/mensaje-en-una-trompeta.html\n",
            "2024-08-01 10:48:09,388,388 INFO     [crawler.py:get_url_list:49]. url: https://delightfulobservaciones.blogspot.com/2017/04/le-llaman-la-bruja.html\n",
            "2024-08-01 10:48:09,391,391 INFO     [crawler.py:get_url_list:49]. url: https://delightfulobservaciones.blogspot.com/2017/02/como-un-latir-de-pies-que-no-se-acaba.html\n",
            "2024-08-01 10:48:09,393,393 INFO     [crawler.py:get_url_list:49]. url: https://delightfulobservaciones.blogspot.com/2015/09/inventa-un-hueco-y-pon-en-el-un-golpe.html\n",
            "2024-08-01 10:48:09,394,394 INFO     [crawler.py:get_url_list:49]. url: https://delightfulobservaciones.blogspot.com/2015/08/quiza-no-te-haya-hablado-nunca-de-ellas.html\n",
            "2024-08-01 10:48:09,397,397 INFO     [crawler.py:get_url_list:49]. url: https://delightfulobservaciones.blogspot.com/2015/07/grecia-las-contradicciones-de-mi-union.html\n",
            "2024-08-01 10:48:09,400,400 INFO     [crawler.py:get_url_list:57]. Next page URL: https://delightfulobservaciones.blogspot.com/search?updated-max=2015-07-13T15:49:00-07:00&max-results=7&start=6&by-date=false\n",
            "2024-08-01 10:48:09,401,401 INFO     [crawler.py:get_url_list:37]. Fetching https://delightfulobservaciones.blogspot.com/search?updated-max=2015-07-13T15:49:00-07:00&max-results=7&start=6&by-date=false\n",
            "2024-08-01 10:48:09,765,765 INFO     [crawler.py:get_url_list:49]. url: https://delightfulobservaciones.blogspot.com/2014/09/fiesta-de-disfraces.html\n",
            "2024-08-01 10:48:09,766,766 INFO     [crawler.py:get_url_list:49]. url: https://delightfulobservaciones.blogspot.com/2014/01/cuando-lo-viejo-rehusa-hacerse-un-lado.html\n",
            "2024-08-01 10:48:09,769,769 INFO     [crawler.py:get_url_list:49]. url: https://delightfulobservaciones.blogspot.com/2013/11/los-9-motivos-por-los-que-tengo-bitcoins.html\n",
            "2024-08-01 10:48:09,772,772 INFO     [crawler.py:get_url_list:57]. Next page URL: https://delightfulobservaciones.blogspot.com/search?updated-max=2013-11-10T10:11:00-08:00&max-results=7&start=9&by-date=false\n",
            "2024-08-01 10:48:09,774,774 INFO     [crawler.py:get_url_list:37]. Fetching https://delightfulobservaciones.blogspot.com/search?updated-max=2013-11-10T10:11:00-08:00&max-results=7&start=9&by-date=false\n",
            "2024-08-01 10:48:10,130,130 INFO     [crawler.py:get_url_list:49]. url: https://delightfulobservaciones.blogspot.com/2013/10/ok-la-doctrina-parot-pero-y-la-doctrina.html\n",
            "2024-08-01 10:48:10,131,131 INFO     [crawler.py:get_url_list:49]. url: https://delightfulobservaciones.blogspot.com/2013/07/london-at-work.html\n",
            "2024-08-01 10:48:10,135,135 INFO     [crawler.py:get_url_list:49]. url: https://delightfulobservaciones.blogspot.com/2013/07/estan-robando-tus-suenos-y-tu-esfuerzo.html\n",
            "2024-08-01 10:48:10,137,137 INFO     [crawler.py:get_url_list:49]. url: https://delightfulobservaciones.blogspot.com/2013/05/hiperneolitico.html\n",
            "2024-08-01 10:48:10,139,139 INFO     [crawler.py:get_url_list:49]. url: https://delightfulobservaciones.blogspot.com/2013/03/valientes-flores-amarillas-en-londres.html\n",
            "2024-08-01 10:48:10,140,140 INFO     [crawler.py:get_url_list:49]. url: https://delightfulobservaciones.blogspot.com/2013/02/si-esto-no-es-una-economia-de-guerra-es.html\n",
            "2024-08-01 10:48:10,142,142 INFO     [crawler.py:get_url_list:49]. url: https://delightfulobservaciones.blogspot.com/2013/02/dimelo-con-tus-manos.html\n",
            "2024-08-01 10:48:10,147,147 INFO     [crawler.py:get_url_list:57]. Next page URL: https://delightfulobservaciones.blogspot.com/search?updated-max=2013-02-17T12:13:00-08:00&max-results=7&start=16&by-date=false\n",
            "2024-08-01 10:48:10,148,148 INFO     [crawler.py:get_url_list:37]. Fetching https://delightfulobservaciones.blogspot.com/search?updated-max=2013-02-17T12:13:00-08:00&max-results=7&start=16&by-date=false\n",
            "2024-08-01 10:48:10,325,325 INFO     [crawler.py:get_url_list:49]. url: https://delightfulobservaciones.blogspot.com/2013/02/sueno-desde-el-puente-de-brooklyn.html\n",
            "2024-08-01 10:48:10,326,326 INFO     [crawler.py:get_url_list:49]. url: https://delightfulobservaciones.blogspot.com/2013/02/este-es-el-tipo-de-conversacion-que.html\n",
            "2024-08-01 10:48:10,331,331 INFO     [crawler.py:get_url_list:49]. url: https://delightfulobservaciones.blogspot.com/2012/09/do-not-fuck-with-us.html\n",
            "2024-08-01 10:48:10,332,332 INFO     [crawler.py:get_url_list:49]. url: https://delightfulobservaciones.blogspot.com/2013/01/el-angel-de-comillas.html\n",
            "2024-08-01 10:48:10,336,336 INFO     [crawler.py:get_url_list:49]. url: https://delightfulobservaciones.blogspot.com/2013/01/transcendental-running.html\n",
            "2024-08-01 10:48:10,337,337 INFO     [crawler.py:get_url_list:49]. url: https://delightfulobservaciones.blogspot.com/2013/01/hemos-vivido-por-debajo-de-nuestras.html\n",
            "2024-08-01 10:48:10,339,339 INFO     [crawler.py:get_url_list:49]. url: https://delightfulobservaciones.blogspot.com/2013/01/la-historia-del-universo-en-una-sola.html\n",
            "2024-08-01 10:48:10,342,342 INFO     [crawler.py:get_url_list:57]. Next page URL: https://delightfulobservaciones.blogspot.com/search?updated-max=2013-01-06T15:28:00-08:00&max-results=7&start=23&by-date=false\n",
            "2024-08-01 10:48:10,345,345 INFO     [crawler.py:get_url_list:37]. Fetching https://delightfulobservaciones.blogspot.com/search?updated-max=2013-01-06T15:28:00-08:00&max-results=7&start=23&by-date=false\n",
            "2024-08-01 10:48:10,537,537 INFO     [crawler.py:get_url_list:49]. url: https://delightfulobservaciones.blogspot.com/2012/12/cierra-los-ojos-y-abre-la-boca.html\n",
            "2024-08-01 10:48:10,538,538 INFO     [crawler.py:get_url_list:49]. url: https://delightfulobservaciones.blogspot.com/2012/12/sus-zapatos-traen-polvo-de-otros-caminos.html\n",
            "2024-08-01 10:48:10,540,540 INFO     [crawler.py:get_url_list:49]. url: https://delightfulobservaciones.blogspot.com/2012/12/mujer-fatal.html\n",
            "2024-08-01 10:48:10,542,542 INFO     [crawler.py:get_url_list:49]. url: https://delightfulobservaciones.blogspot.com/2012/11/desde-las-cumbres-del-corazon.html\n",
            "2024-08-01 10:48:10,544,544 INFO     [crawler.py:get_url_list:49]. url: https://delightfulobservaciones.blogspot.com/2012/11/no-es-justo-yo-fui-la-huelga.html\n",
            "2024-08-01 10:48:10,546,546 INFO     [crawler.py:get_url_list:49]. url: https://delightfulobservaciones.blogspot.com/2012/11/mecanica-cuantica-y-recursividad-como_13.html\n",
            "2024-08-01 10:48:10,547,547 INFO     [crawler.py:get_url_list:49]. url: https://delightfulobservaciones.blogspot.com/2012/11/ley-natural-del-tamano.html\n",
            "2024-08-01 10:48:10,551,551 INFO     [crawler.py:get_url_list:57]. Next page URL: https://delightfulobservaciones.blogspot.com/search?updated-max=2012-11-09T03:23:00-08:00&max-results=7&start=30&by-date=false\n",
            "2024-08-01 10:48:10,552,552 INFO     [crawler.py:get_url_list:37]. Fetching https://delightfulobservaciones.blogspot.com/search?updated-max=2012-11-09T03:23:00-08:00&max-results=7&start=30&by-date=false\n",
            "2024-08-01 10:48:10,942,942 INFO     [crawler.py:get_url_list:49]. url: https://delightfulobservaciones.blogspot.com/2012/11/segundo-y-secundina.html\n",
            "2024-08-01 10:48:10,943,943 INFO     [crawler.py:get_url_list:49]. url: https://delightfulobservaciones.blogspot.com/2012/10/thanks-pedraz.html\n",
            "2024-08-01 10:48:10,946,946 INFO     [crawler.py:get_url_list:49]. url: https://delightfulobservaciones.blogspot.com/2012/09/from-fistful-of-sheep-best-of-shepherds.html\n",
            "2024-08-01 10:48:10,948,948 INFO     [crawler.py:get_url_list:49]. url: https://delightfulobservaciones.blogspot.com/2012/09/a-veces-observamos-5.html\n",
            "2024-08-01 10:48:10,949,949 INFO     [crawler.py:get_url_list:49]. url: https://delightfulobservaciones.blogspot.com/2012/09/a-veces-observamos-4.html\n",
            "2024-08-01 10:48:10,950,950 INFO     [crawler.py:get_url_list:49]. url: https://delightfulobservaciones.blogspot.com/2012/09/a-veces-observamos-3.html\n",
            "2024-08-01 10:48:10,951,951 INFO     [crawler.py:get_url_list:49]. url: https://delightfulobservaciones.blogspot.com/2012/09/a-veces-observamos-2.html\n",
            "2024-08-01 10:48:10,960,960 INFO     [crawler.py:get_url_list:57]. Next page URL: https://delightfulobservaciones.blogspot.com/search?updated-max=2012-09-02T06:59:00-07:00&max-results=7&start=37&by-date=false\n",
            "2024-08-01 10:48:10,963,963 INFO     [crawler.py:get_url_list:37]. Fetching https://delightfulobservaciones.blogspot.com/search?updated-max=2012-09-02T06:59:00-07:00&max-results=7&start=37&by-date=false\n",
            "2024-08-01 10:48:11,149,149 INFO     [crawler.py:get_url_list:49]. url: https://delightfulobservaciones.blogspot.com/2012/09/a-veces-observamos-1.html\n",
            "2024-08-01 10:48:11,150,150 INFO     [crawler.py:get_url_list:49]. url: https://delightfulobservaciones.blogspot.com/2012/09/de-un-punado-de-ovejas-el-mejor-de-los.html\n",
            "2024-08-01 10:48:11,153,153 INFO     [crawler.py:get_url_list:49]. url: https://delightfulobservaciones.blogspot.com/2012/05/0-false-21-18-pt-18-pt-0-0-false-false.html\n",
            "2024-08-01 10:48:11,154,154 INFO     [crawler.py:get_url_list:49]. url: https://delightfulobservaciones.blogspot.com/2012/05/desayuno-cantabrico.html\n",
            "2024-08-01 10:48:11,156,156 INFO     [crawler.py:get_url_list:49]. url: https://delightfulobservaciones.blogspot.com/2012/04/petro-crak-nos-frenan-porque-los.html\n",
            "2024-08-01 10:48:11,157,157 INFO     [crawler.py:get_url_list:49]. url: https://delightfulobservaciones.blogspot.com/2012/04/el-huevo-la-vez-que-la-gallina.html\n",
            "2024-08-01 10:48:11,160,160 INFO     [crawler.py:get_url_list:49]. url: https://delightfulobservaciones.blogspot.com/2012/04/ahi-va-un-primer-fragmento-de-volcan.html\n",
            "2024-08-01 10:48:11,164,164 INFO     [crawler.py:get_url_list:57]. Next page URL: https://delightfulobservaciones.blogspot.com/search?updated-max=2012-04-22T09:32:00-07:00&max-results=7&start=44&by-date=false\n",
            "2024-08-01 10:48:11,165,165 INFO     [crawler.py:get_url_list:37]. Fetching https://delightfulobservaciones.blogspot.com/search?updated-max=2012-04-22T09:32:00-07:00&max-results=7&start=44&by-date=false\n",
            "2024-08-01 10:48:11,349,349 INFO     [crawler.py:get_url_list:49]. url: https://delightfulobservaciones.blogspot.com/2012/02/soy-mas-rico-que-fernando-i-de-aragon.html\n",
            "2024-08-01 10:48:11,350,350 INFO     [crawler.py:get_url_list:49]. url: https://delightfulobservaciones.blogspot.com/2011/11/waking-life.html\n",
            "2024-08-01 10:48:11,353,353 INFO     [crawler.py:get_url_list:49]. url: https://delightfulobservaciones.blogspot.com/2011/11/europeos-del-centro-y-de-la-periferia.html\n",
            "2024-08-01 10:48:11,355,355 INFO     [crawler.py:get_url_list:49]. url: https://delightfulobservaciones.blogspot.com/2011/10/gatos-de-schrondringer-pensamientos.html\n",
            "2024-08-01 10:48:11,359,359 INFO     [crawler.py:get_url_list:49]. url: https://delightfulobservaciones.blogspot.com/2011/10/el-botin-miedo-amenaza-o-ambos.html\n",
            "2024-08-01 10:48:11,360,360 INFO     [crawler.py:get_url_list:49]. url: https://delightfulobservaciones.blogspot.com/2011/10/sobre-la-consciencia.html\n",
            "2024-08-01 10:48:11,362,362 INFO     [crawler.py:get_url_list:49]. url: https://delightfulobservaciones.blogspot.com/2011/10/el-cambio-global-se-irradia-desde-el-15.html\n",
            "2024-08-01 10:48:11,366,366 INFO     [crawler.py:get_url_list:59]. No more pages found.\n",
            "2024-08-01 10:48:28,920,920 INFO     [crawler.py:write:74]. path_file: data/blog.jsonl\n",
            "2024-08-01 10:48:28,927,927 INFO     [rag_pipeline.py:__init__:58]. RagPipelineConf(loader=JSONLoaderConf(file_path='data/blog.jsonl', jq_schema='.text', text_content=False, json_lines=True), splitter=TextSplitterConf(chunk_size=1000, chunk_overlap=10), vectorstore=VectorStoreConf(embedding_model='nomic-embed-text', persist_directory='chroma'), ragchain=RAGChainConf(prompt_model='rlm/rag-prompt-llama', llm_model='llama3.1:8b'), is_db_ready=False, is_debug=False)\n",
            "2024-08-01 10:48:28,981,981 INFO     [rag_pipeline.py:create_vectorstore:80]. split_count: 428\n",
            "2024-08-01 10:48:28,996,996 INFO     [posthog.py:__init__:20]. Anonymized telemetry enabled. See                     https://docs.trychroma.com/telemetry for more information.\n",
            "page_content='No dejo de maravillarme en lo intrincado de todas estas sincronicidades, increíbles misterios que viajan adelante y atrás por estas líneas como flechas retorcidas, sorpresas que cobran sentido conforme avanza la historia, hasta el punto de sospechar que una novela minuciosamente escrita despliega su intrincado guion sobre mi mundo, solo por juguetear con ingenios a tramar mi realidad. Yo ya me creo cualquier cosa. Sobre todo creo en el fruto del amor de nosotros, tus padres, y en esto me entrego, hija. Si algo puedo ser para vosotras, que no sea vacío o que no pudiera serlo cualquier otro, es este puñado de palabras que, como un juego más, imagino que acarician tu corazón, que te hacen sonreír, y en ti pongan un soplo de aire que te dé vida.\n",
            "Te quiero, Alejandra.\n",
            "León, 25 de septiembre de 2023.\n",
            "https://delightfulobservaciones.blogspot.com/2019/06/poco-antes-de-helena.html\n",
            "https://delightfulobservaciones.blogspot.com/2017/11/mensaje-en-una-trompeta.html' metadata={'seq_num': 54, 'source': '/content/ml-sandbox/ragblog/data/blog.jsonl'}\n",
            "page_content='Estas lecciones me han dado estas dos pequeñas mías, y solo estoy recién matriculado en su escuela. Yo sé que, aunque se esconda, esto es el fruto de mi mujer y nuestro amor, que sigue vivo cada día a fuerza de no rendirse. Ni siquiera en las batallas más retorcidas y crueles, que son las que no se luchan contra extranjeros.\n",
            "Yo siempre rechacé sentir haber pecado, y más aún que preceda a mi nacimiento. Pero he ido comprendiendo que el único mal se hace solo por ignorancia, que el desconocimiento es el verdadero pecado. También entiendo lo infinito de lo que queda por aprender y que a esta vida venimos a entrenar, a lavar ese pecado que es el aún no saber todo lo que puede ser. Que en este día, este agua deje ver la luz que guíe a Alejandra en su recién comenzado caminar.\n",
            "León, 2 de Marzo de 2024.\n",
            "https://delightfulobservaciones.blogspot.com/2019/06/poco-antes-de-helena.html\n",
            "https://delightfulobservaciones.blogspot.com/2023/10/poco-antes-de-alejandra.html' metadata={'seq_num': 55, 'source': '/content/ml-sandbox/ragblog/data/blog.jsonl'}\n",
            "page_content='https://www.youtube.com/watch?v=lTN1YbiOSmI\n",
            "\n",
            "\n",
            "\n",
            "\n",
            "https://theestablishment.co/the-real-reason-women-love-witches-647d48517f66\n",
            "\n",
            "\n",
            "\n",
            "\n",
            "más en delightful:\n",
            "\n",
            "\n",
            "Quizá no te haya hablado nunca de ellas\n",
            "\n",
            "\n",
            "El Ángel de Comillas\n",
            "\n",
            "\n",
            "La Historia del Universo en una sola imagen' metadata={'seq_num': 49, 'source': '/content/ml-sandbox/ragblog/data/blog.jsonl'}\n",
            "page_content='Siempre que creo ver, estoy en realidad dormido; cuando despierto, comprendo que solo veo la superficie. Por eso siempre estoy equivocado. Yo solo aspiraba a traer luz a este mundo, pero la luz que hay en mi resulta ser no más que un reflejo. Solo cuando me rindo en las incontestables manos del vacío, la ironía del universo me eleva al corazón de la mujer que amo. Así comprendí, hija, que te llamarías Alejandra.' metadata={'seq_num': 54, 'source': '/content/ml-sandbox/ragblog/data/blog.jsonl'}\n",
            "Based on the retrieved context, it appears that Helena and Alejandra are two individuals who hold a special place in León's life. The blog posts suggest a deep emotional connection between them, particularly with Alejandra.\n",
            "\n",
            "From the first blog post, dated June 2019, it is clear that León has a daughter named Helena. He writes about being amazed by the intricate coincidences and mysteries that unfold in his life, which he believes are connected to his reality as a parent. In this context, Helena seems to be the apple of his eye, and he cherishes her presence in his life.\n",
            "\n",
            "The second blog post, dated November 2017, contains a reference to Alejandra. León mentions being recently enrolled in \"her school\" ( likely a metaphorical or spiritual journey) and seeking guidance for his daughter Alejandra. This suggests that Alejandra is also someone close to León's heart.\n",
            "\n",
            "The third blog post, dated March 2024, provides more insight into the relationship between León, Helena, and Alejandra. In this post, León reflects on the nature of good and evil, understanding that true ignorance is the root of all problems. He expresses a desire for Alejandra to grow and learn, implying a deep concern for her well-being.\n",
            "\n",
            "Furthermore, the context also suggests that León values his connections with both Helena and Alejandra. He sees these relationships as opportunities for personal growth and learning, reflecting on how they help him become a better person.\n",
            "\n",
            "In summary, based on the retrieved context, it appears that:\n",
            "\n",
            "1. Helena is León's daughter.\n",
            "2. Alejandra is someone close to León's heart, possibly his other daughter or a younger version of himself.\n",
            "3. León values his relationships with both Helena and Alejandra as opportunities for personal growth and learning.\n",
            "\n",
            "The author's diverse experiences and multifaceted personality are reflected in these blog posts, showcasing a deep love and appreciation for the people around him.\n"
          ]
        }
      ],
      "source": [
        "import os\n",
        "\n",
        "from ragblog.conf import CONF\n",
        "from ragblog.crawler import ConfCrawler, Crawler\n",
        "from ragblog.logger_custom import LoggerCustom\n",
        "from ragblog.rag_pipeline import (\n",
        "    JSONLoaderConf,\n",
        "    RAGChainConf,\n",
        "    RagPipeline,\n",
        "    RagPipelineConf,\n",
        "    TextSplitterConf,\n",
        "    VectorStoreConf,\n",
        ")\n",
        "\n",
        "\n",
        "def main():\n",
        "\n",
        "    crawler = Crawler(conf_crawler=ConfCrawler(post_count_min=1000))\n",
        "    crawler.get_url_list()\n",
        "    crawler.get_post_list()\n",
        "    crawler.write(path=CONF.path.data)\n",
        "\n",
        "    rp_conf = RagPipelineConf(\n",
        "        loader=JSONLoaderConf(\n",
        "            file_path=os.path.join(CONF.path.data, \"blog.jsonl\"),\n",
        "            jq_schema=\".text\",\n",
        "            text_content=False,\n",
        "            json_lines=True,\n",
        "        ),\n",
        "        splitter=TextSplitterConf(chunk_size=1000, chunk_overlap=10),\n",
        "        vectorstore=VectorStoreConf(\n",
        "            embedding_model=\"nomic-embed-text\",\n",
        "            persist_directory=CONF.path.chroma,\n",
        "        ),\n",
        "        ragchain=RAGChainConf(\n",
        "            prompt_model=\"rlm/rag-prompt-llama\", llm_model=\"llama3.1:8b\"\n",
        "        ),\n",
        "        is_db_ready=False,\n",
        "        is_debug=False,\n",
        "    )\n",
        "\n",
        "    pipeline = RagPipeline(conf=rp_conf, logger=LoggerCustom().get_logger())\n",
        "    response = pipeline.query(\n",
        "        question=\"\"\"Describe the relation between Helena and Alejandra. Consider the author's diverse experiences and\n",
        "        multifaceted personality, reflecting on traits that are evident across their various blog posts. Provide a\n",
        "        detailed and thoughtful response. Ensure your answer\n",
        "        is profound and sufficiently long, offering deep insights and personal reflections.\"\"\"\n",
        "    )\n",
        "    print(response)\n",
        "\n",
        "\n",
        "if __name__ == \"__main__\":\n",
        "    main()\n"
      ]
    }
  ],
  "metadata": {
    "accelerator": "GPU",
    "colab": {
      "gpuType": "T4",
      "provenance": []
    },
    "kernelspec": {
      "display_name": "Python 3",
      "name": "python3"
    },
    "language_info": {
      "name": "python"
    }
  },
  "nbformat": 4,
  "nbformat_minor": 0
}